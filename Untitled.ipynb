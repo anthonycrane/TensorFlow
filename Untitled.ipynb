{
 "cells": [
  {
   "cell_type": "code",
   "execution_count": 31,
   "metadata": {
    "collapsed": false
   },
   "outputs": [],
   "source": [
    "import pandas as pd \n",
    "import gzip\n",
    "%matplotlib inline\n",
    "import matplotlib.pyplot as plt\n",
    "import urllib2\n",
    "\n",
    "def parse(path): \n",
    "    g = gzip.open(path, 'rb') \n",
    "    for l in g: \n",
    "        yield eval(l)\n",
    "        \n",
    "def getDF(path): \n",
    "    i = 0 \n",
    "    df = {} \n",
    "    for d in parse(path): \n",
    "        if(i<1000):\n",
    "            df[i] = d \n",
    "            i += 1 \n",
    "        else:\n",
    "            break\n",
    "    return pd.DataFrame.from_dict(df, orient='index') "
   ]
  },
  {
   "cell_type": "code",
   "execution_count": 19,
   "metadata": {
    "collapsed": false
   },
   "outputs": [],
   "source": [
    "df = getDF('/home/anthony/Downloads/reviews_Books.json.gz')\n",
    "df_meta = getDF('/home/anthony/Downloads/meta_Books.json.gz')"
   ]
  },
  {
   "cell_type": "code",
   "execution_count": 13,
   "metadata": {
    "collapsed": false
   },
   "outputs": [
    {
     "data": {
      "image/png": "[encoded data removed]",
      "text/plain": [
       "<matplotlib.figure.Figure at 0x7f56dbe7b1d0>"
      ]
     },
     "metadata": {},
     "output_type": "display_data"
    }
   ],
   "source": [
    "plt.figure();\n",
    "df['overall'].plot(kind='hist')\n",
    "plt.show();"
   ]
  },
  {
   "cell_type": "code",
   "execution_count": 21,
   "metadata": {
    "collapsed": false
   },
   "outputs": [
    {
     "data": {
      "text/html": [
       "<div>\n",
       "<table border=\"1\" class=\"dataframe\">\n",
       "  <thead>\n",
       "    <tr style=\"text-align: right;\">\n",
       "      <th></th>\n",
       "      <th>reviewerID</th>\n",
       "      <th>asin</th>\n",
       "      <th>reviewerName</th>\n",
       "      <th>helpful</th>\n",
       "      <th>unixReviewTime</th>\n",
       "      <th>reviewText</th>\n",
       "      <th>overall</th>\n",
       "      <th>reviewTime</th>\n",
       "      <th>summary</th>\n",
       "    </tr>\n",
       "  </thead>\n",
       "  <tbody>\n",
       "    <tr>\n",
       "      <th>0</th>\n",
       "      <td>AH2L9G3DQHHAJ</td>\n",
       "      <td>0000000116</td>\n",
       "      <td>chris</td>\n",
       "      <td>[5, 5]</td>\n",
       "      <td>1019865600</td>\n",
       "      <td>Interesting Grisham tale of a lawyer that take...</td>\n",
       "      <td>4</td>\n",
       "      <td>04 27, 2002</td>\n",
       "      <td>Show me the money!</td>\n",
       "    </tr>\n",
       "    <tr>\n",
       "      <th>1</th>\n",
       "      <td>A2IIIDRK3PRRZY</td>\n",
       "      <td>0000000116</td>\n",
       "      <td>Helene</td>\n",
       "      <td>[0, 0]</td>\n",
       "      <td>1395619200</td>\n",
       "      <td>The thumbnail is a shirt.  The product shown i...</td>\n",
       "      <td>1</td>\n",
       "      <td>03 24, 2014</td>\n",
       "      <td>Listing is all screwed up</td>\n",
       "    </tr>\n",
       "    <tr>\n",
       "      <th>2</th>\n",
       "      <td>A1TADCM7YWPQ8M</td>\n",
       "      <td>0000000868</td>\n",
       "      <td>Joel@AWS</td>\n",
       "      <td>[10, 10]</td>\n",
       "      <td>1031702400</td>\n",
       "      <td>I'll be honest. I work for a large online reta...</td>\n",
       "      <td>4</td>\n",
       "      <td>09 11, 2002</td>\n",
       "      <td>Not a Bad Translation</td>\n",
       "    </tr>\n",
       "    <tr>\n",
       "      <th>3</th>\n",
       "      <td>AWGH7V0BDOJKB</td>\n",
       "      <td>0000013714</td>\n",
       "      <td>Barbara Marshall</td>\n",
       "      <td>[0, 0]</td>\n",
       "      <td>1383177600</td>\n",
       "      <td>It had all the songs I wanted but I had ordere...</td>\n",
       "      <td>4</td>\n",
       "      <td>10 31, 2013</td>\n",
       "      <td>Not the large print</td>\n",
       "    </tr>\n",
       "    <tr>\n",
       "      <th>4</th>\n",
       "      <td>A3UTQPQPM4TQO0</td>\n",
       "      <td>0000013714</td>\n",
       "      <td>betty burnett</td>\n",
       "      <td>[0, 0]</td>\n",
       "      <td>1374883200</td>\n",
       "      <td>We have many of the old, old issue. But the nu...</td>\n",
       "      <td>5</td>\n",
       "      <td>07 27, 2013</td>\n",
       "      <td>I was disappointed that you would only allow m...</td>\n",
       "    </tr>\n",
       "  </tbody>\n",
       "</table>\n",
       "</div>"
      ],
      "text/plain": [
       "       reviewerID        asin      reviewerName   helpful  unixReviewTime  \\\n",
       "0   AH2L9G3DQHHAJ  0000000116             chris    [5, 5]      1019865600   \n",
       "1  A2IIIDRK3PRRZY  0000000116            Helene    [0, 0]      1395619200   \n",
       "2  A1TADCM7YWPQ8M  0000000868          Joel@AWS  [10, 10]      1031702400   \n",
       "3   AWGH7V0BDOJKB  0000013714  Barbara Marshall    [0, 0]      1383177600   \n",
       "4  A3UTQPQPM4TQO0  0000013714     betty burnett    [0, 0]      1374883200   \n",
       "\n",
       "                                          reviewText  overall   reviewTime  \\\n",
       "0  Interesting Grisham tale of a lawyer that take...        4  04 27, 2002   \n",
       "1  The thumbnail is a shirt.  The product shown i...        1  03 24, 2014   \n",
       "2  I'll be honest. I work for a large online reta...        4  09 11, 2002   \n",
       "3  It had all the songs I wanted but I had ordere...        4  10 31, 2013   \n",
       "4  We have many of the old, old issue. But the nu...        5  07 27, 2013   \n",
       "\n",
       "                                             summary  \n",
       "0                                 Show me the money!  \n",
       "1                          Listing is all screwed up  \n",
       "2                              Not a Bad Translation  \n",
       "3                                Not the large print  \n",
       "4  I was disappointed that you would only allow m...  "
      ]
     },
     "execution_count": 21,
     "metadata": {},
     "output_type": "execute_result"
    }
   ],
   "source": [
    "df.head()"
   ]
  },
  {
   "cell_type": "code",
   "execution_count": 22,
   "metadata": {
    "collapsed": false
   },
   "outputs": [
    {
     "data": {
      "text/html": [
       "<div>\n",
       "<table border=\"1\" class=\"dataframe\">\n",
       "  <thead>\n",
       "    <tr style=\"text-align: right;\">\n",
       "      <th></th>\n",
       "      <th>asin</th>\n",
       "      <th>salesRank</th>\n",
       "      <th>imUrl</th>\n",
       "      <th>categories</th>\n",
       "      <th>title</th>\n",
       "      <th>description</th>\n",
       "      <th>related</th>\n",
       "      <th>price</th>\n",
       "    </tr>\n",
       "  </thead>\n",
       "  <tbody>\n",
       "    <tr>\n",
       "      <th>0</th>\n",
       "      <td>0001048791</td>\n",
       "      <td>{u'Books': 6334800}</td>\n",
       "      <td>http://ecx.images-amazon.com/images/I/51MKP0T4...</td>\n",
       "      <td>[[Books]]</td>\n",
       "      <td>The Crucible: Performed by Stuart Pankin, Jero...</td>\n",
       "      <td>NaN</td>\n",
       "      <td>NaN</td>\n",
       "      <td>NaN</td>\n",
       "    </tr>\n",
       "    <tr>\n",
       "      <th>1</th>\n",
       "      <td>0001048775</td>\n",
       "      <td>{u'Books': 13243226}</td>\n",
       "      <td>http://ecx.images-amazon.com/images/I/5166EBHD...</td>\n",
       "      <td>[[Books]]</td>\n",
       "      <td>Measure for Measure: Complete &amp;amp; Unabridged</td>\n",
       "      <td>William Shakespeare is widely regarded as the ...</td>\n",
       "      <td>NaN</td>\n",
       "      <td>NaN</td>\n",
       "    </tr>\n",
       "    <tr>\n",
       "      <th>2</th>\n",
       "      <td>0001048236</td>\n",
       "      <td>{u'Books': 8973864}</td>\n",
       "      <td>http://ecx.images-amazon.com/images/I/51DH145C...</td>\n",
       "      <td>[[Books]]</td>\n",
       "      <td>The Sherlock Holmes Audio Collection</td>\n",
       "      <td>&amp;#34;One thing is certain, Sherlockians, put a...</td>\n",
       "      <td>{u'also_viewed': [u'1442300191', u'9626349786'...</td>\n",
       "      <td>9.26</td>\n",
       "    </tr>\n",
       "    <tr>\n",
       "      <th>3</th>\n",
       "      <td>0000401048</td>\n",
       "      <td>{u'Books': 6448843}</td>\n",
       "      <td>http://ecx.images-amazon.com/images/I/41bchvIf...</td>\n",
       "      <td>[[Books]]</td>\n",
       "      <td>The rogue of publishers' row;: Confessions of ...</td>\n",
       "      <td>NaN</td>\n",
       "      <td>{u'also_viewed': [u'068240103X']}</td>\n",
       "      <td>NaN</td>\n",
       "    </tr>\n",
       "    <tr>\n",
       "      <th>4</th>\n",
       "      <td>0001019880</td>\n",
       "      <td>{u'Books': 9589258}</td>\n",
       "      <td>http://ecx.images-amazon.com/images/I/61LcHUdv...</td>\n",
       "      <td>[[Books]]</td>\n",
       "      <td>Classic Soul Winner's New Testament Bible</td>\n",
       "      <td>NaN</td>\n",
       "      <td>{u'also_viewed': [u'B003HMB5FC', u'0834004593'...</td>\n",
       "      <td>5.39</td>\n",
       "    </tr>\n",
       "  </tbody>\n",
       "</table>\n",
       "</div>"
      ],
      "text/plain": [
       "         asin             salesRank  \\\n",
       "0  0001048791   {u'Books': 6334800}   \n",
       "1  0001048775  {u'Books': 13243226}   \n",
       "2  0001048236   {u'Books': 8973864}   \n",
       "3  0000401048   {u'Books': 6448843}   \n",
       "4  0001019880   {u'Books': 9589258}   \n",
       "\n",
       "                                               imUrl categories  \\\n",
       "0  http://ecx.images-amazon.com/images/I/51MKP0T4...  [[Books]]   \n",
       "1  http://ecx.images-amazon.com/images/I/5166EBHD...  [[Books]]   \n",
       "2  http://ecx.images-amazon.com/images/I/51DH145C...  [[Books]]   \n",
       "3  http://ecx.images-amazon.com/images/I/41bchvIf...  [[Books]]   \n",
       "4  http://ecx.images-amazon.com/images/I/61LcHUdv...  [[Books]]   \n",
       "\n",
       "                                               title  \\\n",
       "0  The Crucible: Performed by Stuart Pankin, Jero...   \n",
       "1     Measure for Measure: Complete &amp; Unabridged   \n",
       "2               The Sherlock Holmes Audio Collection   \n",
       "3  The rogue of publishers' row;: Confessions of ...   \n",
       "4          Classic Soul Winner's New Testament Bible   \n",
       "\n",
       "                                         description  \\\n",
       "0                                                NaN   \n",
       "1  William Shakespeare is widely regarded as the ...   \n",
       "2  &#34;One thing is certain, Sherlockians, put a...   \n",
       "3                                                NaN   \n",
       "4                                                NaN   \n",
       "\n",
       "                                             related  price  \n",
       "0                                                NaN    NaN  \n",
       "1                                                NaN    NaN  \n",
       "2  {u'also_viewed': [u'1442300191', u'9626349786'...   9.26  \n",
       "3                  {u'also_viewed': [u'068240103X']}    NaN  \n",
       "4  {u'also_viewed': [u'B003HMB5FC', u'0834004593'...   5.39  "
      ]
     },
     "execution_count": 22,
     "metadata": {},
     "output_type": "execute_result"
    }
   ],
   "source": [
    "df_meta.head()"
   ]
  },
  {
   "cell_type": "code",
   "execution_count": 27,
   "metadata": {
    "collapsed": false
   },
   "outputs": [
    {
     "data": {
      "text/plain": [
       "'http://ecx.images-amazon.com/images/I/5166EBHDQYL.jpg'"
      ]
     },
     "execution_count": 27,
     "metadata": {},
     "output_type": "execute_result"
    }
   ],
   "source": [
    "df_meta['imUrl'][1]"
   ]
  },
  {
   "cell_type": "code",
   "execution_count": 33,
   "metadata": {
    "collapsed": false
   },
   "outputs": [
    {
     "data": {
      "text/plain": [
       "('tmp.jpg', <httplib.HTTPMessage instance at 0x7f56daa527e8>)"
      ]
     },
     "execution_count": 33,
     "metadata": {},
     "output_type": "execute_result"
    }
   ],
   "source": [
    "urllib.urlretrieve(df_meta['imUrl'][1],'tmp.jpg')"
   ]
  },
  {
   "cell_type": "code",
   "execution_count": null,
   "metadata": {
    "collapsed": true
   },
   "outputs": [],
   "source": []
  }
 ],
 "metadata": {
  "kernelspec": {
   "display_name": "Python 2",
   "language": "python",
   "name": "python2"
  },
  "language_info": {
   "codemirror_mode": {
    "name": "ipython",
    "version": 2
   },
   "file_extension": ".py",
   "mimetype": "text/x-python",
   "name": "python",
   "nbconvert_exporter": "python",
   "pygments_lexer": "ipython2",
   "version": "2.7.6"
  }
 },
 "nbformat": 4,
 "nbformat_minor": 0
}
