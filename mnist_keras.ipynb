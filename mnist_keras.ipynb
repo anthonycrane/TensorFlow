{
 "cells": [
  {
   "cell_type": "code",
   "execution_count": 18,
   "metadata": {
    "collapsed": false
   },
   "outputs": [],
   "source": [
    "## Load required libraries\n",
    "import Data.input_data\n",
    "from __future__ import absolute_import\n",
    "from __future__ import print_function\n",
    "import numpy as np\n",
    "np.random.seed(1337)  # for reproducibility\n",
    "\n",
    "from keras.datasets import mnist\n",
    "from keras.models import Sequential\n",
    "from keras.layers.core import Dense, Dropout, Activation\n",
    "from keras.optimizers import SGD, Adam, RMSprop\n",
    "from keras.utils import np_utils\n",
    "from keras.regularizers import l2, activity_l2"
   ]
  },
  {
   "cell_type": "code",
   "execution_count": 2,
   "metadata": {
    "collapsed": true
   },
   "outputs": [],
   "source": [
    "## Initialize batch, classes, epoch\n",
    "batch_size = 128\n",
    "nb_classes = 10\n",
    "nb_epoch = 20"
   ]
  },
  {
   "cell_type": "code",
   "execution_count": 16,
   "metadata": {
    "collapsed": false
   },
   "outputs": [
    {
     "name": "stdout",
     "output_type": "stream",
     "text": [
      "60000 train samples\n",
      "10000 test samples\n"
     ]
    }
   ],
   "source": [
    "# the data, shuffled and split between tran and test sets\n",
    "(X_train, y_train), (X_test, y_test) = mnist.load_data()\n",
    "\n",
    "X_train = X_train.reshape(60000, 784)\n",
    "X_test = X_test.reshape(10000, 784)\n",
    "X_train = X_train.astype(\"float32\")\n",
    "X_test = X_test.astype(\"float32\")\n",
    "X_train /= 255\n",
    "X_test /= 255\n",
    "print(X_train.shape[0], 'train samples')\n",
    "print(X_test.shape[0], 'test samples')"
   ]
  },
  {
   "cell_type": "code",
   "execution_count": 11,
   "metadata": {
    "collapsed": true
   },
   "outputs": [],
   "source": [
    "# convert class vectors to binary class matrices\n",
    "Y_train = np_utils.to_categorical(y_train, nb_classes)\n",
    "Y_test = np_utils.to_categorical(y_test, nb_classes)"
   ]
  },
  {
   "cell_type": "code",
   "execution_count": 19,
   "metadata": {
    "collapsed": false
   },
   "outputs": [],
   "source": [
    "## Define the model\n",
    "model = Sequential()\n",
    "model.add(Dense(512, input_shape=(784,),W_regularizer=l2(0.01)))\n",
    "model.add(Activation('relu'))\n",
    "model.add(Dropout(0.2))\n",
    "model.add(Dense(512))\n",
    "model.add(Activation('relu'))\n",
    "model.add(Dropout(0.2))\n",
    "model.add(Dense(10))\n",
    "model.add(Activation('softmax'))"
   ]
  },
  {
   "cell_type": "code",
   "execution_count": 24,
   "metadata": {
    "collapsed": true
   },
   "outputs": [],
   "source": [
    "## Compile the model\n",
    "rms = RMSprop()\n",
    "model.compile(loss='categorical_crossentropy', optimizer=rms)"
   ]
  },
  {
   "cell_type": "code",
   "execution_count": 25,
   "metadata": {
    "collapsed": false
   },
   "outputs": [
    {
     "name": "stdout",
     "output_type": "stream",
     "text": [
      "Train on 60000 samples, validate on 10000 samples\n",
      "Epoch 1/20\n",
      "60000/60000 [==============================] - 36s - loss: 1.0692 - acc: 0.8884 - val_loss: 0.2983 - val_acc: 0.9051\n",
      "Epoch 2/20\n",
      "60000/60000 [==============================] - 36s - loss: 0.3597 - acc: 0.9305 - val_loss: 0.1635 - val_acc: 0.9497\n",
      "Epoch 3/20\n",
      "60000/60000 [==============================] - 37s - loss: 0.3170 - acc: 0.9405 - val_loss: 0.2014 - val_acc: 0.9331\n",
      "Epoch 4/20\n",
      "60000/60000 [==============================] - 36s - loss: 0.2996 - acc: 0.9433 - val_loss: 0.2824 - val_acc: 0.9090\n",
      "Epoch 5/20\n",
      "60000/60000 [==============================] - 39s - loss: 0.2855 - acc: 0.9470 - val_loss: 0.1486 - val_acc: 0.9561\n",
      "Epoch 6/20\n",
      "60000/60000 [==============================] - 40s - loss: 0.2731 - acc: 0.9488 - val_loss: 0.1208 - val_acc: 0.9612\n",
      "Epoch 7/20\n",
      "60000/60000 [==============================] - 40s - loss: 0.2676 - acc: 0.9492 - val_loss: 0.1490 - val_acc: 0.9536\n",
      "Epoch 8/20\n",
      "60000/60000 [==============================] - 40s - loss: 0.2639 - acc: 0.9505 - val_loss: 0.1305 - val_acc: 0.9592\n",
      "Epoch 9/20\n",
      "60000/60000 [==============================] - 42s - loss: 0.2517 - acc: 0.9527 - val_loss: 0.1384 - val_acc: 0.9567\n",
      "Epoch 10/20\n",
      "60000/60000 [==============================] - 41s - loss: 0.2478 - acc: 0.9533 - val_loss: 0.1632 - val_acc: 0.9483\n",
      "Epoch 11/20\n",
      "60000/60000 [==============================] - 47s - loss: 0.2438 - acc: 0.9552 - val_loss: 0.1326 - val_acc: 0.9566\n",
      "Epoch 12/20\n",
      "60000/60000 [==============================] - 63s - loss: 0.2425 - acc: 0.9543 - val_loss: 0.1295 - val_acc: 0.9620\n",
      "Epoch 13/20\n",
      "60000/60000 [==============================] - 56s - loss: 0.2405 - acc: 0.9537 - val_loss: 0.0905 - val_acc: 0.9711\n",
      "Epoch 14/20\n",
      "60000/60000 [==============================] - 59s - loss: 0.2349 - acc: 0.9552 - val_loss: 0.1056 - val_acc: 0.9638\n",
      "Epoch 15/20\n",
      "60000/60000 [==============================] - 70s - loss: 0.2311 - acc: 0.9559 - val_loss: 0.0828 - val_acc: 0.9745\n",
      "Epoch 16/20\n",
      "60000/60000 [==============================] - 72s - loss: 0.2289 - acc: 0.9567 - val_loss: 0.1001 - val_acc: 0.9687\n",
      "Epoch 17/20\n",
      "60000/60000 [==============================] - 68s - loss: 0.2251 - acc: 0.9575 - val_loss: 0.1228 - val_acc: 0.9605\n",
      "Epoch 18/20\n",
      "60000/60000 [==============================] - 63s - loss: 0.2250 - acc: 0.9568 - val_loss: 0.1175 - val_acc: 0.9612\n",
      "Epoch 19/20\n",
      "60000/60000 [==============================] - 64s - loss: 0.2249 - acc: 0.9573 - val_loss: 0.0894 - val_acc: 0.9710\n",
      "Epoch 20/20\n",
      "60000/60000 [==============================] - 71s - loss: 0.2224 - acc: 0.9573 - val_loss: 0.1148 - val_acc: 0.9648\n",
      "Test score: 0.114808660746\n",
      "Test accuracy: 0.9648\n"
     ]
    }
   ],
   "source": [
    "## Train and evaluate\n",
    "model.fit(X_train, Y_train,\n",
    "          batch_size=batch_size, nb_epoch=nb_epoch,\n",
    "          show_accuracy=True, verbose=1,\n",
    "          validation_data=(X_test, Y_test))\n",
    "score = model.evaluate(X_test, Y_test,\n",
    "                       show_accuracy=True, verbose=0)\n",
    "print('Test score:', score[0])\n",
    "print('Test accuracy:', score[1])"
   ]
  },
  {
   "cell_type": "code",
   "execution_count": null,
   "metadata": {
    "collapsed": true
   },
   "outputs": [],
   "source": []
  }
 ],
 "metadata": {
  "kernelspec": {
   "display_name": "Python 2",
   "language": "python",
   "name": "python2"
  },
  "language_info": {
   "codemirror_mode": {
    "name": "ipython",
    "version": 2
   },
   "file_extension": ".py",
   "mimetype": "text/x-python",
   "name": "python",
   "nbconvert_exporter": "python",
   "pygments_lexer": "ipython2",
   "version": "2.7.6"
  }
 },
 "nbformat": 4,
 "nbformat_minor": 0
}
