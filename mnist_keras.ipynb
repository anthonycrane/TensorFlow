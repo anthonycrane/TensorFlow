{
 "cells": [
  {
   "cell_type": "code",
   "execution_count": 1,
   "metadata": {
    "collapsed": false
   },
   "outputs": [
    {
     "name": "stdout",
     "output_type": "stream",
     "text": [
      "Using TensorFlow backend.\n"
     ]
    }
   ],
   "source": [
    "## Load required libraries\n",
    "import Data.input_data\n",
    "from __future__ import absolute_import\n",
    "from __future__ import print_function\n",
    "import numpy as np\n",
    "np.random.seed(1337)  # for reproducibility\n",
    "\n",
    "from keras.datasets import mnist\n",
    "from keras.models import Sequential\n",
    "from keras.layers.core import Dense, Dropout, Activation\n",
    "from keras.optimizers import SGD, Adam, RMSprop\n",
    "from keras.utils import np_utils\n",
    "from keras.regularizers import l2, activity_l2"
   ]
  },
  {
   "cell_type": "code",
   "execution_count": 2,
   "metadata": {
    "collapsed": true
   },
   "outputs": [],
   "source": [
    "## Initialize batch, classes, epoch\n",
    "batch_size = 128\n",
    "nb_classes = 10\n",
    "nb_epoch = 20"
   ]
  },
  {
   "cell_type": "code",
   "execution_count": 3,
   "metadata": {
    "collapsed": false
   },
   "outputs": [
    {
     "name": "stdout",
     "output_type": "stream",
     "text": [
      "60000 train samples\n",
      "10000 test samples\n"
     ]
    }
   ],
   "source": [
    "# the data, shuffled and split between tran and test sets\n",
    "(X_train, y_train), (X_test, y_test) = mnist.load_data()\n",
    "\n",
    "X_train = X_train.reshape(60000, 784)\n",
    "X_test = X_test.reshape(10000, 784)\n",
    "X_train = X_train.astype(\"float32\")\n",
    "X_test = X_test.astype(\"float32\")\n",
    "X_train /= 255\n",
    "X_test /= 255\n",
    "print(X_train.shape[0], 'train samples')\n",
    "print(X_test.shape[0], 'test samples')"
   ]
  },
  {
   "cell_type": "code",
   "execution_count": 4,
   "metadata": {
    "collapsed": true
   },
   "outputs": [],
   "source": [
    "# convert class vectors to binary class matrices\n",
    "Y_train = np_utils.to_categorical(y_train, nb_classes)\n",
    "Y_test = np_utils.to_categorical(y_test, nb_classes)"
   ]
  },
  {
   "cell_type": "code",
   "execution_count": 5,
   "metadata": {
    "collapsed": false
   },
   "outputs": [],
   "source": [
    "## Define the model\n",
    "model = Sequential()\n",
    "model.add(Dense(512, input_shape=(784,),W_regularizer=l2(0.01)))\n",
    "model.add(Activation('relu'))\n",
    "model.add(Dropout(0.2))\n",
    "model.add(Dense(512))\n",
    "model.add(Activation('relu'))\n",
    "model.add(Dropout(0.2))\n",
    "model.add(Dense(10))\n",
    "model.add(Activation('softmax'))"
   ]
  },
  {
   "cell_type": "code",
   "execution_count": 6,
   "metadata": {
    "collapsed": false
   },
   "outputs": [],
   "source": [
    "## Compile the model\n",
    "rms = RMSprop()\n",
    "model.compile(loss='categorical_crossentropy', optimizer=rms)"
   ]
  },
  {
   "cell_type": "code",
   "execution_count": 7,
   "metadata": {
    "collapsed": false
   },
   "outputs": [
    {
     "name": "stdout",
     "output_type": "stream",
     "text": [
      "Train on 60000 samples, validate on 10000 samples\n",
      "Epoch 1/20\n",
      "60000/60000 [==============================] - 11s - loss: 1.0658 - acc: 0.8901 - val_loss: 0.1973 - val_acc: 0.9376\n",
      "Epoch 2/20\n",
      "60000/60000 [==============================] - 11s - loss: 0.3574 - acc: 0.9320 - val_loss: 0.1705 - val_acc: 0.9490\n",
      "Epoch 3/20\n",
      "60000/60000 [==============================] - 11s - loss: 0.3196 - acc: 0.9400 - val_loss: 0.1391 - val_acc: 0.9571\n",
      "Epoch 4/20\n",
      "60000/60000 [==============================] - 11s - loss: 0.2992 - acc: 0.9447 - val_loss: 0.1399 - val_acc: 0.9535\n",
      "Epoch 5/20\n",
      "60000/60000 [==============================] - 12s - loss: 0.2878 - acc: 0.9451 - val_loss: 0.1185 - val_acc: 0.9624\n",
      "Epoch 6/20\n",
      "60000/60000 [==============================] - 12s - loss: 0.2727 - acc: 0.9488 - val_loss: 0.1122 - val_acc: 0.9654\n",
      "Epoch 7/20\n",
      "60000/60000 [==============================] - 11s - loss: 0.2648 - acc: 0.9506 - val_loss: 0.2350 - val_acc: 0.9276\n",
      "Epoch 8/20\n",
      "60000/60000 [==============================] - 12s - loss: 0.2550 - acc: 0.9523 - val_loss: 0.1091 - val_acc: 0.9648\n",
      "Epoch 9/20\n",
      "60000/60000 [==============================] - 12s - loss: 0.2509 - acc: 0.9531 - val_loss: 0.1750 - val_acc: 0.9461\n",
      "Epoch 10/20\n",
      "60000/60000 [==============================] - 13s - loss: 0.2482 - acc: 0.9537 - val_loss: 0.1416 - val_acc: 0.9561\n",
      "Epoch 11/20\n",
      "60000/60000 [==============================] - 15s - loss: 0.2431 - acc: 0.9532 - val_loss: 0.1368 - val_acc: 0.9561\n",
      "Epoch 12/20\n",
      "60000/60000 [==============================] - 17s - loss: 0.2381 - acc: 0.9556 - val_loss: 0.1057 - val_acc: 0.9659\n",
      "Epoch 13/20\n",
      "60000/60000 [==============================] - 17s - loss: 0.2369 - acc: 0.9554 - val_loss: 0.1150 - val_acc: 0.9647\n",
      "Epoch 14/20\n",
      "60000/60000 [==============================] - 18s - loss: 0.2332 - acc: 0.9559 - val_loss: 0.1232 - val_acc: 0.9611\n",
      "Epoch 15/20\n",
      "60000/60000 [==============================] - 19s - loss: 0.2325 - acc: 0.9560 - val_loss: 0.1598 - val_acc: 0.9474\n",
      "Epoch 16/20\n",
      "60000/60000 [==============================] - 20s - loss: 0.2273 - acc: 0.9576 - val_loss: 0.0950 - val_acc: 0.9704\n",
      "Epoch 17/20\n",
      "60000/60000 [==============================] - 21s - loss: 0.2268 - acc: 0.9567 - val_loss: 0.1128 - val_acc: 0.9624\n",
      "Epoch 18/20\n",
      "60000/60000 [==============================] - 20s - loss: 0.2257 - acc: 0.9566 - val_loss: 0.0955 - val_acc: 0.9697\n",
      "Epoch 19/20\n",
      "60000/60000 [==============================] - 20s - loss: 0.2225 - acc: 0.9576 - val_loss: 0.1008 - val_acc: 0.9669\n",
      "Epoch 20/20\n",
      "60000/60000 [==============================] - 20s - loss: 0.2206 - acc: 0.9584 - val_loss: 0.0868 - val_acc: 0.9723\n",
      "Test score: 0.0868257447287\n",
      "Test accuracy: 0.9723\n"
     ]
    }
   ],
   "source": [
    "## Train and evaluate\n",
    "model.fit(X_train, Y_train,\n",
    "          batch_size=batch_size, nb_epoch=nb_epoch,\n",
    "          show_accuracy=True, verbose=1,\n",
    "          validation_data=(X_test, Y_test))\n",
    "score = model.evaluate(X_test, Y_test,\n",
    "                       show_accuracy=True, verbose=0)\n",
    "print('Test score:', score[0])\n",
    "print('Test accuracy:', score[1])"
   ]
  },
  {
   "cell_type": "code",
   "execution_count": null,
   "metadata": {
    "collapsed": true
   },
   "outputs": [],
   "source": []
  }
 ],
 "metadata": {
  "kernelspec": {
   "display_name": "Python 2",
   "language": "python",
   "name": "python2"
  },
  "language_info": {
   "codemirror_mode": {
    "name": "ipython",
    "version": 2
   },
   "file_extension": ".py",
   "mimetype": "text/x-python",
   "name": "python",
   "nbconvert_exporter": "python",
   "pygments_lexer": "ipython2",
   "version": "2.7.6"
  }
 },
 "nbformat": 4,
 "nbformat_minor": 0
}
